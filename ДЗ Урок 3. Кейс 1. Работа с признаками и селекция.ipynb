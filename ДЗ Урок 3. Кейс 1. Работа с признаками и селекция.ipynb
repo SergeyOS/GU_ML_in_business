{
 "cells": [
  {
   "cell_type": "markdown",
   "metadata": {},
   "source": [
    "# Задание\n",
    "\n",
    "1. Прочитайте базу my_PJME_MW.csv и сделайте ее перрасчет (ресемплинг) в представление по 1 месяцу.\n",
    "\n",
    "2. Подберите параметры модели SARIMAX для этого ряда.\n",
    "\n",
    "3. Сделайте вывод о том, как изменилась модель по сравнению с недельной."
   ]
  },
  {
   "cell_type": "code",
   "execution_count": 1,
   "metadata": {},
   "outputs": [],
   "source": [
    "import numpy as np \n",
    "import pandas as pd \n",
    "%matplotlib inline\n",
    "import matplotlib.pyplot as plt\n",
    "\n",
    "import warnings\n",
    "\n",
    "warnings.filterwarnings('ignore')"
   ]
  },
  {
   "cell_type": "markdown",
   "metadata": {},
   "source": [
    "##### 1.Прочитайте базу my_PJME_MW.csv и сделайте ее перрасчет (ресемплинг) в представление по 1 месяцу."
   ]
  },
  {
   "cell_type": "code",
   "execution_count": 2,
   "metadata": {},
   "outputs": [
    {
     "name": "stdout",
     "output_type": "stream",
     "text": [
      "<class 'pandas.core.frame.DataFrame'>\n",
      "DatetimeIndex: 145374 entries, 2002-01-01 01:00:00 to 2018-08-03 00:00:00\n",
      "Data columns (total 12 columns):\n",
      "PJME_MW            145374 non-null float64\n",
      "year               145374 non-null int64\n",
      "month              145374 non-null int64\n",
      "dayofmonth         145374 non-null int64\n",
      "quarter            145374 non-null int64\n",
      "dayofyear          145374 non-null int64\n",
      "weekofyear         145374 non-null int64\n",
      "dayofweek          145374 non-null int64\n",
      "hour               145374 non-null int64\n",
      "is_holiday         145374 non-null int64\n",
      "is_prev_holiday    145374 non-null int64\n",
      "is_next_holiday    145374 non-null int64\n",
      "dtypes: float64(1), int64(11)\n",
      "memory usage: 14.4 MB\n"
     ]
    }
   ],
   "source": [
    "data = pd.read_csv('my_PJME_MW.csv',  parse_dates = {'Date Time' : [0, 1]} )\n",
    "data = data.set_index('Date Time')\n",
    "data.info()"
   ]
  },
  {
   "cell_type": "code",
   "execution_count": 3,
   "metadata": {},
   "outputs": [
    {
     "data": {
      "text/html": [
       "<div>\n",
       "<style scoped>\n",
       "    .dataframe tbody tr th:only-of-type {\n",
       "        vertical-align: middle;\n",
       "    }\n",
       "\n",
       "    .dataframe tbody tr th {\n",
       "        vertical-align: top;\n",
       "    }\n",
       "\n",
       "    .dataframe thead th {\n",
       "        text-align: right;\n",
       "    }\n",
       "</style>\n",
       "<table border=\"1\" class=\"dataframe\">\n",
       "  <thead>\n",
       "    <tr style=\"text-align: right;\">\n",
       "      <th></th>\n",
       "      <th>PJME_MW</th>\n",
       "      <th>year</th>\n",
       "      <th>month</th>\n",
       "      <th>dayofmonth</th>\n",
       "      <th>quarter</th>\n",
       "      <th>dayofyear</th>\n",
       "      <th>weekofyear</th>\n",
       "      <th>dayofweek</th>\n",
       "      <th>hour</th>\n",
       "      <th>is_holiday</th>\n",
       "      <th>is_prev_holiday</th>\n",
       "      <th>is_next_holiday</th>\n",
       "    </tr>\n",
       "    <tr>\n",
       "      <th>Date Time</th>\n",
       "      <th></th>\n",
       "      <th></th>\n",
       "      <th></th>\n",
       "      <th></th>\n",
       "      <th></th>\n",
       "      <th></th>\n",
       "      <th></th>\n",
       "      <th></th>\n",
       "      <th></th>\n",
       "      <th></th>\n",
       "      <th></th>\n",
       "      <th></th>\n",
       "    </tr>\n",
       "  </thead>\n",
       "  <tbody>\n",
       "    <tr>\n",
       "      <td>2002-01-01 01:00:00</td>\n",
       "      <td>30393.0</td>\n",
       "      <td>2002</td>\n",
       "      <td>1</td>\n",
       "      <td>1</td>\n",
       "      <td>1</td>\n",
       "      <td>1</td>\n",
       "      <td>1</td>\n",
       "      <td>1</td>\n",
       "      <td>1</td>\n",
       "      <td>1</td>\n",
       "      <td>0</td>\n",
       "      <td>0</td>\n",
       "    </tr>\n",
       "    <tr>\n",
       "      <td>2002-01-01 02:00:00</td>\n",
       "      <td>29265.0</td>\n",
       "      <td>2002</td>\n",
       "      <td>1</td>\n",
       "      <td>1</td>\n",
       "      <td>1</td>\n",
       "      <td>1</td>\n",
       "      <td>1</td>\n",
       "      <td>1</td>\n",
       "      <td>2</td>\n",
       "      <td>1</td>\n",
       "      <td>0</td>\n",
       "      <td>0</td>\n",
       "    </tr>\n",
       "    <tr>\n",
       "      <td>2002-01-01 03:00:00</td>\n",
       "      <td>28357.0</td>\n",
       "      <td>2002</td>\n",
       "      <td>1</td>\n",
       "      <td>1</td>\n",
       "      <td>1</td>\n",
       "      <td>1</td>\n",
       "      <td>1</td>\n",
       "      <td>1</td>\n",
       "      <td>3</td>\n",
       "      <td>1</td>\n",
       "      <td>0</td>\n",
       "      <td>0</td>\n",
       "    </tr>\n",
       "    <tr>\n",
       "      <td>2002-01-01 04:00:00</td>\n",
       "      <td>27899.0</td>\n",
       "      <td>2002</td>\n",
       "      <td>1</td>\n",
       "      <td>1</td>\n",
       "      <td>1</td>\n",
       "      <td>1</td>\n",
       "      <td>1</td>\n",
       "      <td>1</td>\n",
       "      <td>4</td>\n",
       "      <td>1</td>\n",
       "      <td>0</td>\n",
       "      <td>0</td>\n",
       "    </tr>\n",
       "    <tr>\n",
       "      <td>2002-01-01 05:00:00</td>\n",
       "      <td>28057.0</td>\n",
       "      <td>2002</td>\n",
       "      <td>1</td>\n",
       "      <td>1</td>\n",
       "      <td>1</td>\n",
       "      <td>1</td>\n",
       "      <td>1</td>\n",
       "      <td>1</td>\n",
       "      <td>5</td>\n",
       "      <td>1</td>\n",
       "      <td>0</td>\n",
       "      <td>0</td>\n",
       "    </tr>\n",
       "  </tbody>\n",
       "</table>\n",
       "</div>"
      ],
      "text/plain": [
       "                     PJME_MW  year  month  dayofmonth  quarter  dayofyear  \\\n",
       "Date Time                                                                   \n",
       "2002-01-01 01:00:00  30393.0  2002      1           1        1          1   \n",
       "2002-01-01 02:00:00  29265.0  2002      1           1        1          1   \n",
       "2002-01-01 03:00:00  28357.0  2002      1           1        1          1   \n",
       "2002-01-01 04:00:00  27899.0  2002      1           1        1          1   \n",
       "2002-01-01 05:00:00  28057.0  2002      1           1        1          1   \n",
       "\n",
       "                     weekofyear  dayofweek  hour  is_holiday  is_prev_holiday  \\\n",
       "Date Time                                                                       \n",
       "2002-01-01 01:00:00           1          1     1           1                0   \n",
       "2002-01-01 02:00:00           1          1     2           1                0   \n",
       "2002-01-01 03:00:00           1          1     3           1                0   \n",
       "2002-01-01 04:00:00           1          1     4           1                0   \n",
       "2002-01-01 05:00:00           1          1     5           1                0   \n",
       "\n",
       "                     is_next_holiday  \n",
       "Date Time                             \n",
       "2002-01-01 01:00:00                0  \n",
       "2002-01-01 02:00:00                0  \n",
       "2002-01-01 03:00:00                0  \n",
       "2002-01-01 04:00:00                0  \n",
       "2002-01-01 05:00:00                0  "
      ]
     },
     "execution_count": 3,
     "metadata": {},
     "output_type": "execute_result"
    }
   ],
   "source": [
    "data.head()"
   ]
  },
  {
   "cell_type": "code",
   "execution_count": 4,
   "metadata": {},
   "outputs": [],
   "source": [
    "data_m = data.resample('M').mean()"
   ]
  },
  {
   "cell_type": "markdown",
   "metadata": {},
   "source": [
    "##### 2. Подберите параметры модели SARIMAX для этого ряда."
   ]
  },
  {
   "cell_type": "code",
   "execution_count": 5,
   "metadata": {},
   "outputs": [],
   "source": [
    "#импорт модулей для формирования модели\n",
    "import statsmodels.api as sm\n",
    "from statsmodels.tsa.arima_model import ARIMA"
   ]
  },
  {
   "cell_type": "code",
   "execution_count": 6,
   "metadata": {},
   "outputs": [
    {
     "data": {
      "image/png": "[encoded data removed]",
      "text/plain": [
       "<Figure size 432x288 with 1 Axes>"
      ]
     },
     "metadata": {
      "needs_background": "light"
     },
     "output_type": "display_data"
    },
    {
     "data": {
      "image/png": "[encoded data removed]",
      "text/plain": [
       "<Figure size 432x288 with 1 Axes>"
      ]
     },
     "metadata": {
      "needs_background": "light"
     },
     "output_type": "display_data"
    }
   ],
   "source": [
    "LAGS = 36\n",
    "sm.graphics.tsa.plot_acf(data_m['PJME_MW'].values, lags=LAGS)\n",
    "plt.show()\n",
    "sm.graphics.tsa.plot_pacf(data_m['PJME_MW'].values, lags=LAGS)\n",
    "plt.show()"
   ]
  },
  {
   "cell_type": "markdown",
   "metadata": {},
   "source": [
    "Ряд  - сезонный.  \n",
    "Сохраняется  корреляция в 1, 6, 12, 18, 24, 30, 36 месяцы и обратная корреляция в 3, 9, 15, 21, 27, 33 месяцы.  \n",
    "Для разностей важными являются значения внутри первых 3-х значений   \n",
    "Следует использовать модель сезонности с периодом 6, 12, 18, 24, 30, 36 месяца. "
   ]
  },
  {
   "cell_type": "code",
   "execution_count": 7,
   "metadata": {},
   "outputs": [],
   "source": [
    "import itertools\n",
    "\n",
    "# Определим p, d и q в диапазоне 0-3\n",
    "p = d = q = range(0, 4)\n",
    "# зададим сетку p, q и q\n",
    "pdq = list(itertools.product(p, d, q))\n",
    "# зададим сезонность p, q и q\n",
    "seasonal_pdq = [(x[0], x[1], x[2], LAGS) for x in list(itertools.product(p, d, q))]"
   ]
  },
  {
   "cell_type": "code",
   "execution_count": null,
   "metadata": {},
   "outputs": [
    {
     "name": "stderr",
     "output_type": "stream",
     "text": [
      " 28%|██████████▍                          | 18/64 [1:38:34<4:41:19, 366.94s/it]"
     ]
    }
   ],
   "source": [
    "from tqdm import tqdm\n",
    "warnings.filterwarnings('ignore')\n",
    "\n",
    "best_aic = None\n",
    "best_param = None\n",
    "best_seasonal = None\n",
    "best_model = None\n",
    "for param in tqdm(pdq):\n",
    "    for param_seasonal in seasonal_pdq:\n",
    "        try:\n",
    "            mod = sm.tsa.statespace.SARIMAX(data_m['PJME_MW'].values[:-LAGS],order=param,\n",
    "                                    seasonal_order=param_seasonal ,\n",
    "                                    enforce_stationarity=False,\n",
    "                                    enforce_invertibility=False)\n",
    "\n",
    "            results = mod.fit()\n",
    "            #print('ARIMA{}x{} - AIC:{}'.format(param, param_seasonal, results.aic))\n",
    "            if (best_aic is None) or (best_aic > results.aic):\n",
    "                best_aic = results.aic\n",
    "                best_param = param\n",
    "                best_seasonal = param_seasonal \n",
    "                best_model = mod\n",
    "        except:\n",
    "            continue\n",
    "            \n",
    "print('ARIMA{}x{} - AIC:{}'.format(best_param, best_seasonal, best_aic))"
   ]
  },
  {
   "cell_type": "code",
   "execution_count": null,
   "metadata": {},
   "outputs": [],
   "source": [
    "best_model.save('rez_model.h5')"
   ]
  }
 ],
 "metadata": {
  "kernelspec": {
   "display_name": "Python 3",
   "language": "python",
   "name": "python3"
  },
  "language_info": {
   "codemirror_mode": {
    "name": "ipython",
    "version": 3
   },
   "file_extension": ".py",
   "mimetype": "text/x-python",
   "name": "python",
   "nbconvert_exporter": "python",
   "pygments_lexer": "ipython3",
   "version": "3.7.4"
  }
 },
 "nbformat": 4,
 "nbformat_minor": 2
}
