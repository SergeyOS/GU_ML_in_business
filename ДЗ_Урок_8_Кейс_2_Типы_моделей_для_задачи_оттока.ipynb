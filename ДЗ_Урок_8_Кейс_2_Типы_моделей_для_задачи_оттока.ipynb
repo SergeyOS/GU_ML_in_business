{
  "nbformat": 4,
  "nbformat_minor": 0,
  "metadata": {
    "colab": {
      "name": "ДЗ Урок 8. Кейс 2. Типы моделей для задачи оттока.ipynb",
      "provenance": [],
      "collapsed_sections": []
    },
    "kernelspec": {
      "name": "python3",
      "display_name": "Python 3"
    },
    "accelerator": "GPU"
  },
  "cells": [
    {
      "cell_type": "code",
      "metadata": {
        "id": "K_87p1dnW3aK",
        "colab_type": "code",
        "outputId": "a66521ee-e269-4466-8a22-33250ab2c9d7",
        "colab": {
          "base_uri": "https://localhost:8080/",
          "height": 34
        }
      },
      "source": [
        "# Подключение к Google drive\n",
        "\n",
        "from google.colab import drive\n",
        "drive.mount('/content/drive')"
      ],
      "execution_count": 1,
      "outputs": [
        {
          "output_type": "stream",
          "text": [
            "Drive already mounted at /content/drive; to attempt to forcibly remount, call drive.mount(\"/content/drive\", force_remount=True).\n"
          ],
          "name": "stdout"
        }
      ]
    },
    {
      "cell_type": "markdown",
      "metadata": {
        "id": "PnW7z2D_WmB2",
        "colab_type": "text"
      },
      "source": [
        "##### **Задание:**\n",
        "Построить модель градиентного бустинга для многоклассовой классификации для показателя RiskVar на 1 и 2 частях набора данных freMPL. Необходимо предобработать исходные данные (данные содержат ряд других категориальных признаков, не рассматривавшихся на занятиях). Оценить результаты построенного классификатора, выявить возможные проблемы. Попробовать улучшить результат и предложить способы решения обнаруженных проблем. Можно использовать различные методы для подбора гиперпараметров"
      ]
    },
    {
      "cell_type": "markdown",
      "metadata": {
        "id": "F_s6bwa5XQBS",
        "colab_type": "text"
      },
      "source": [
        "##### Библиотеки"
      ]
    },
    {
      "cell_type": "code",
      "metadata": {
        "id": "46mGjpQKWRuC",
        "colab_type": "code",
        "colab": {}
      },
      "source": [
        "import pandas as pd\n",
        "import numpy as np\n",
        "import xgboost as xgb\n",
        "import matplotlib.pyplot as plt\n",
        "import itertools\n",
        "from sklearn.model_selection import train_test_split\n",
        "from sklearn.metrics import f1_score, accuracy_score, confusion_matrix\n",
        "from hyperopt import hp, tpe, space_eval\n",
        "from hyperopt.fmin import fmin\n",
        "\n",
        "def SeriesFactorizer(series):\n",
        "    series, unique = pd.factorize(series)\n",
        "    reference = {x: i for x, i in enumerate(unique)}\n",
        "    print(reference)\n",
        "    return series, reference"
      ],
      "execution_count": 0,
      "outputs": []
    },
    {
      "cell_type": "markdown",
      "metadata": {
        "id": "I_Sxb8jVXTrT",
        "colab_type": "text"
      },
      "source": [
        "##### Загрузка данных"
      ]
    },
    {
      "cell_type": "code",
      "metadata": {
        "id": "INzdoMAlXFNV",
        "colab_type": "code",
        "colab": {}
      },
      "source": [
        "df = pd.read_csv('/content/drive/My Drive/Colab Notebooks/freMPL-R.csv', low_memory=False, parse_dates=[2,3])"
      ],
      "execution_count": 0,
      "outputs": []
    },
    {
      "cell_type": "code",
      "metadata": {
        "id": "AjdJnC_EXH-K",
        "colab_type": "code",
        "colab": {}
      },
      "source": [
        "df = df.loc[df.Dataset.isin([1, 2])]\n",
        "df.drop('Dataset', axis=1, inplace=True)\n",
        "df.dropna(axis=1, how='all', inplace=True)\n",
        "df.drop_duplicates(inplace=True)\n",
        "df.reset_index(drop=True, inplace=True)"
      ],
      "execution_count": 0,
      "outputs": []
    },
    {
      "cell_type": "code",
      "metadata": {
        "id": "s44LrJh6XJAq",
        "colab_type": "code",
        "outputId": "014a3eda-14d7-499b-b03b-6e40eb92d0b9",
        "colab": {
          "base_uri": "https://localhost:8080/",
          "height": 377
        }
      },
      "source": [
        "df.head()"
      ],
      "execution_count": 5,
      "outputs": [
        {
          "output_type": "execute_result",
          "data": {
            "text/html": [
              "<div>\n",
              "<style scoped>\n",
              "    .dataframe tbody tr th:only-of-type {\n",
              "        vertical-align: middle;\n",
              "    }\n",
              "\n",
              "    .dataframe tbody tr th {\n",
              "        vertical-align: top;\n",
              "    }\n",
              "\n",
              "    .dataframe thead th {\n",
              "        text-align: right;\n",
              "    }\n",
              "</style>\n",
              "<table border=\"1\" class=\"dataframe\">\n",
              "  <thead>\n",
              "    <tr style=\"text-align: right;\">\n",
              "      <th></th>\n",
              "      <th>Exposure</th>\n",
              "      <th>LicAge</th>\n",
              "      <th>RecordBeg</th>\n",
              "      <th>RecordEnd</th>\n",
              "      <th>VehAge</th>\n",
              "      <th>Gender</th>\n",
              "      <th>MariStat</th>\n",
              "      <th>SocioCateg</th>\n",
              "      <th>VehUsage</th>\n",
              "      <th>DrivAge</th>\n",
              "      <th>HasKmLimit</th>\n",
              "      <th>BonusMalus</th>\n",
              "      <th>VehBody</th>\n",
              "      <th>VehPrice</th>\n",
              "      <th>VehEngine</th>\n",
              "      <th>VehEnergy</th>\n",
              "      <th>VehMaxSpeed</th>\n",
              "      <th>VehClass</th>\n",
              "      <th>ClaimAmount</th>\n",
              "      <th>RiskVar</th>\n",
              "      <th>Garage</th>\n",
              "      <th>ClaimInd</th>\n",
              "    </tr>\n",
              "  </thead>\n",
              "  <tbody>\n",
              "    <tr>\n",
              "      <th>0</th>\n",
              "      <td>0.583</td>\n",
              "      <td>366</td>\n",
              "      <td>2004-06-01</td>\n",
              "      <td>NaT</td>\n",
              "      <td>2</td>\n",
              "      <td>Female</td>\n",
              "      <td>Other</td>\n",
              "      <td>CSP1</td>\n",
              "      <td>Professional</td>\n",
              "      <td>55</td>\n",
              "      <td>0</td>\n",
              "      <td>72</td>\n",
              "      <td>sedan</td>\n",
              "      <td>D</td>\n",
              "      <td>injection</td>\n",
              "      <td>regular</td>\n",
              "      <td>160-170 km/h</td>\n",
              "      <td>B</td>\n",
              "      <td>0.000000</td>\n",
              "      <td>15.0</td>\n",
              "      <td>None</td>\n",
              "      <td>0</td>\n",
              "    </tr>\n",
              "    <tr>\n",
              "      <th>1</th>\n",
              "      <td>0.200</td>\n",
              "      <td>187</td>\n",
              "      <td>2004-10-19</td>\n",
              "      <td>NaT</td>\n",
              "      <td>0</td>\n",
              "      <td>Male</td>\n",
              "      <td>Alone</td>\n",
              "      <td>CSP55</td>\n",
              "      <td>Private+trip to office</td>\n",
              "      <td>34</td>\n",
              "      <td>0</td>\n",
              "      <td>80</td>\n",
              "      <td>microvan</td>\n",
              "      <td>K</td>\n",
              "      <td>direct injection overpowered</td>\n",
              "      <td>diesel</td>\n",
              "      <td>170-180 km/h</td>\n",
              "      <td>M1</td>\n",
              "      <td>0.000000</td>\n",
              "      <td>20.0</td>\n",
              "      <td>None</td>\n",
              "      <td>0</td>\n",
              "    </tr>\n",
              "    <tr>\n",
              "      <th>2</th>\n",
              "      <td>0.083</td>\n",
              "      <td>169</td>\n",
              "      <td>2004-07-16</td>\n",
              "      <td>2004-08-16</td>\n",
              "      <td>1</td>\n",
              "      <td>Female</td>\n",
              "      <td>Other</td>\n",
              "      <td>CSP1</td>\n",
              "      <td>Professional</td>\n",
              "      <td>33</td>\n",
              "      <td>0</td>\n",
              "      <td>63</td>\n",
              "      <td>other microvan</td>\n",
              "      <td>L</td>\n",
              "      <td>direct injection overpowered</td>\n",
              "      <td>diesel</td>\n",
              "      <td>170-180 km/h</td>\n",
              "      <td>M1</td>\n",
              "      <td>0.000000</td>\n",
              "      <td>17.0</td>\n",
              "      <td>None</td>\n",
              "      <td>0</td>\n",
              "    </tr>\n",
              "    <tr>\n",
              "      <th>3</th>\n",
              "      <td>0.375</td>\n",
              "      <td>170</td>\n",
              "      <td>2004-08-16</td>\n",
              "      <td>NaT</td>\n",
              "      <td>1</td>\n",
              "      <td>Female</td>\n",
              "      <td>Other</td>\n",
              "      <td>CSP1</td>\n",
              "      <td>Professional</td>\n",
              "      <td>34</td>\n",
              "      <td>0</td>\n",
              "      <td>63</td>\n",
              "      <td>other microvan</td>\n",
              "      <td>L</td>\n",
              "      <td>direct injection overpowered</td>\n",
              "      <td>diesel</td>\n",
              "      <td>170-180 km/h</td>\n",
              "      <td>M1</td>\n",
              "      <td>0.000000</td>\n",
              "      <td>17.0</td>\n",
              "      <td>Private garage</td>\n",
              "      <td>0</td>\n",
              "    </tr>\n",
              "    <tr>\n",
              "      <th>4</th>\n",
              "      <td>0.500</td>\n",
              "      <td>224</td>\n",
              "      <td>2004-01-01</td>\n",
              "      <td>2004-07-01</td>\n",
              "      <td>3</td>\n",
              "      <td>Male</td>\n",
              "      <td>Other</td>\n",
              "      <td>CSP47</td>\n",
              "      <td>Professional</td>\n",
              "      <td>53</td>\n",
              "      <td>0</td>\n",
              "      <td>72</td>\n",
              "      <td>van</td>\n",
              "      <td>L</td>\n",
              "      <td>direct injection overpowered</td>\n",
              "      <td>diesel</td>\n",
              "      <td>140-150 km/h</td>\n",
              "      <td>0</td>\n",
              "      <td>1418.610272</td>\n",
              "      <td>19.0</td>\n",
              "      <td>None</td>\n",
              "      <td>1</td>\n",
              "    </tr>\n",
              "  </tbody>\n",
              "</table>\n",
              "</div>"
            ],
            "text/plain": [
              "   Exposure  LicAge  RecordBeg  ... RiskVar          Garage ClaimInd\n",
              "0     0.583     366 2004-06-01  ...    15.0            None        0\n",
              "1     0.200     187 2004-10-19  ...    20.0            None        0\n",
              "2     0.083     169 2004-07-16  ...    17.0            None        0\n",
              "3     0.375     170 2004-08-16  ...    17.0  Private garage        0\n",
              "4     0.500     224 2004-01-01  ...    19.0            None        1\n",
              "\n",
              "[5 rows x 22 columns]"
            ]
          },
          "metadata": {
            "tags": []
          },
          "execution_count": 5
        }
      ]
    },
    {
      "cell_type": "code",
      "metadata": {
        "id": "MLC63m-YXjaz",
        "colab_type": "code",
        "outputId": "5a8f1f8c-e542-4b86-e18d-e2d3a0e4ba48",
        "colab": {
          "base_uri": "https://localhost:8080/",
          "height": 476
        }
      },
      "source": [
        "df.info()"
      ],
      "execution_count": 6,
      "outputs": [
        {
          "output_type": "stream",
          "text": [
            "<class 'pandas.core.frame.DataFrame'>\n",
            "RangeIndex: 40732 entries, 0 to 40731\n",
            "Data columns (total 22 columns):\n",
            "Exposure       40732 non-null float64\n",
            "LicAge         40732 non-null int64\n",
            "RecordBeg      40732 non-null datetime64[ns]\n",
            "RecordEnd      21616 non-null datetime64[ns]\n",
            "VehAge         40732 non-null object\n",
            "Gender         40732 non-null object\n",
            "MariStat       40732 non-null object\n",
            "SocioCateg     40732 non-null object\n",
            "VehUsage       40732 non-null object\n",
            "DrivAge        40732 non-null int64\n",
            "HasKmLimit     40732 non-null int64\n",
            "BonusMalus     40732 non-null int64\n",
            "VehBody        40732 non-null object\n",
            "VehPrice       40732 non-null object\n",
            "VehEngine      40732 non-null object\n",
            "VehEnergy      40732 non-null object\n",
            "VehMaxSpeed    40732 non-null object\n",
            "VehClass       40732 non-null object\n",
            "ClaimAmount    40732 non-null float64\n",
            "RiskVar        40732 non-null float64\n",
            "Garage         40732 non-null object\n",
            "ClaimInd       40732 non-null int64\n",
            "dtypes: datetime64[ns](2), float64(3), int64(5), object(12)\n",
            "memory usage: 6.8+ MB\n"
          ],
          "name": "stdout"
        }
      ]
    },
    {
      "cell_type": "code",
      "metadata": {
        "id": "38wm5zCyX8qS",
        "colab_type": "code",
        "outputId": "a19705c9-272b-4f87-86d5-8b0da637d2f2",
        "colab": {
          "base_uri": "https://localhost:8080/",
          "height": 408
        }
      },
      "source": [
        "df.nunique().sort_values()"
      ],
      "execution_count": 7,
      "outputs": [
        {
          "output_type": "execute_result",
          "data": {
            "text/plain": [
              "HasKmLimit        2\n",
              "MariStat          2\n",
              "Gender            2\n",
              "ClaimInd          2\n",
              "Garage            3\n",
              "VehEnergy         4\n",
              "VehUsage          4\n",
              "VehClass          6\n",
              "VehEngine         6\n",
              "VehAge            9\n",
              "VehBody           9\n",
              "VehMaxSpeed      10\n",
              "RiskVar          20\n",
              "VehPrice         27\n",
              "SocioCateg       52\n",
              "DrivAge          83\n",
              "BonusMalus      108\n",
              "RecordEnd       365\n",
              "RecordBeg       366\n",
              "Exposure        757\n",
              "LicAge          810\n",
              "ClaimAmount    3193\n",
              "dtype: int64"
            ]
          },
          "metadata": {
            "tags": []
          },
          "execution_count": 7
        }
      ]
    },
    {
      "cell_type": "markdown",
      "metadata": {
        "id": "qMNYJhgrY7T1",
        "colab_type": "text"
      },
      "source": [
        "##### Подоготовка данных"
      ]
    },
    {
      "cell_type": "code",
      "metadata": {
        "id": "RyehL06IYDRj",
        "colab_type": "code",
        "colab": {}
      },
      "source": [
        "CAT_FEATURES = ['HasKmLimit',  'MariStat', 'Gender', 'ClaimInd', 'Garage', 'VehEnergy', 'VehUsage', 'VehClass', 'VehEngine', 'VehAge', 'VehBody', 'VehMaxSpeed',\n",
        "                'VehPrice', 'SocioCateg']\n",
        "NUM_FEATURES = ['DrivAge', 'BonusMalus', 'Exposure', 'LicAge', 'ClaimAmount']\n",
        "FEATS = CAT_FEATURES + NUM_FEATURES + ['RecordBeg','RecordEnd']\n",
        "TARGET = 'RiskVar'\n",
        "DELETE_FEATURES = []"
      ],
      "execution_count": 0,
      "outputs": []
    },
    {
      "cell_type": "code",
      "metadata": {
        "id": "pxknUVFMv29O",
        "colab_type": "code",
        "outputId": "6010bb78-6840-4933-9150-8b37399f02ef",
        "colab": {
          "base_uri": "https://localhost:8080/",
          "height": 297
        }
      },
      "source": [
        "df.describe()"
      ],
      "execution_count": 9,
      "outputs": [
        {
          "output_type": "execute_result",
          "data": {
            "text/html": [
              "<div>\n",
              "<style scoped>\n",
              "    .dataframe tbody tr th:only-of-type {\n",
              "        vertical-align: middle;\n",
              "    }\n",
              "\n",
              "    .dataframe tbody tr th {\n",
              "        vertical-align: top;\n",
              "    }\n",
              "\n",
              "    .dataframe thead th {\n",
              "        text-align: right;\n",
              "    }\n",
              "</style>\n",
              "<table border=\"1\" class=\"dataframe\">\n",
              "  <thead>\n",
              "    <tr style=\"text-align: right;\">\n",
              "      <th></th>\n",
              "      <th>Exposure</th>\n",
              "      <th>LicAge</th>\n",
              "      <th>DrivAge</th>\n",
              "      <th>HasKmLimit</th>\n",
              "      <th>BonusMalus</th>\n",
              "      <th>ClaimAmount</th>\n",
              "      <th>RiskVar</th>\n",
              "      <th>ClaimInd</th>\n",
              "    </tr>\n",
              "  </thead>\n",
              "  <tbody>\n",
              "    <tr>\n",
              "      <th>count</th>\n",
              "      <td>40732.000000</td>\n",
              "      <td>40732.000000</td>\n",
              "      <td>40732.000000</td>\n",
              "      <td>40732.000000</td>\n",
              "      <td>40732.000000</td>\n",
              "      <td>40732.000000</td>\n",
              "      <td>40732.000000</td>\n",
              "      <td>40732.000000</td>\n",
              "    </tr>\n",
              "    <tr>\n",
              "      <th>mean</th>\n",
              "      <td>0.445484</td>\n",
              "      <td>272.088039</td>\n",
              "      <td>44.323358</td>\n",
              "      <td>0.132500</td>\n",
              "      <td>69.325592</td>\n",
              "      <td>201.735874</td>\n",
              "      <td>13.470588</td>\n",
              "      <td>0.096165</td>\n",
              "    </tr>\n",
              "    <tr>\n",
              "      <th>std</th>\n",
              "      <td>0.284627</td>\n",
              "      <td>162.796180</td>\n",
              "      <td>14.732524</td>\n",
              "      <td>0.339038</td>\n",
              "      <td>20.715860</td>\n",
              "      <td>2027.344788</td>\n",
              "      <td>4.722731</td>\n",
              "      <td>0.294821</td>\n",
              "    </tr>\n",
              "    <tr>\n",
              "      <th>min</th>\n",
              "      <td>0.001000</td>\n",
              "      <td>0.000000</td>\n",
              "      <td>18.000000</td>\n",
              "      <td>0.000000</td>\n",
              "      <td>50.000000</td>\n",
              "      <td>-3407.700000</td>\n",
              "      <td>1.000000</td>\n",
              "      <td>0.000000</td>\n",
              "    </tr>\n",
              "    <tr>\n",
              "      <th>25%</th>\n",
              "      <td>0.195000</td>\n",
              "      <td>139.000000</td>\n",
              "      <td>32.000000</td>\n",
              "      <td>0.000000</td>\n",
              "      <td>50.000000</td>\n",
              "      <td>0.000000</td>\n",
              "      <td>11.000000</td>\n",
              "      <td>0.000000</td>\n",
              "    </tr>\n",
              "    <tr>\n",
              "      <th>50%</th>\n",
              "      <td>0.416000</td>\n",
              "      <td>244.000000</td>\n",
              "      <td>42.000000</td>\n",
              "      <td>0.000000</td>\n",
              "      <td>63.000000</td>\n",
              "      <td>0.000000</td>\n",
              "      <td>15.000000</td>\n",
              "      <td>0.000000</td>\n",
              "    </tr>\n",
              "    <tr>\n",
              "      <th>75%</th>\n",
              "      <td>0.666000</td>\n",
              "      <td>394.000000</td>\n",
              "      <td>55.000000</td>\n",
              "      <td>0.000000</td>\n",
              "      <td>85.000000</td>\n",
              "      <td>0.000000</td>\n",
              "      <td>17.000000</td>\n",
              "      <td>0.000000</td>\n",
              "    </tr>\n",
              "    <tr>\n",
              "      <th>max</th>\n",
              "      <td>1.000000</td>\n",
              "      <td>940.000000</td>\n",
              "      <td>103.000000</td>\n",
              "      <td>1.000000</td>\n",
              "      <td>272.000000</td>\n",
              "      <td>163427.013897</td>\n",
              "      <td>20.000000</td>\n",
              "      <td>1.000000</td>\n",
              "    </tr>\n",
              "  </tbody>\n",
              "</table>\n",
              "</div>"
            ],
            "text/plain": [
              "           Exposure        LicAge  ...       RiskVar      ClaimInd\n",
              "count  40732.000000  40732.000000  ...  40732.000000  40732.000000\n",
              "mean       0.445484    272.088039  ...     13.470588      0.096165\n",
              "std        0.284627    162.796180  ...      4.722731      0.294821\n",
              "min        0.001000      0.000000  ...      1.000000      0.000000\n",
              "25%        0.195000    139.000000  ...     11.000000      0.000000\n",
              "50%        0.416000    244.000000  ...     15.000000      0.000000\n",
              "75%        0.666000    394.000000  ...     17.000000      0.000000\n",
              "max        1.000000    940.000000  ...     20.000000      1.000000\n",
              "\n",
              "[8 rows x 8 columns]"
            ]
          },
          "metadata": {
            "tags": []
          },
          "execution_count": 9
        }
      ]
    },
    {
      "cell_type": "code",
      "metadata": {
        "id": "JegsH9oaYyB_",
        "colab_type": "code",
        "colab": {}
      },
      "source": [
        "from sklearn.preprocessing import LabelEncoder\n",
        "labelEncoder = LabelEncoder()\n",
        "df = df.drop(columns=DELETE_FEATURES, axis=1)\n",
        "for column_name in CAT_FEATURES:\n",
        "    df[column_name ] = labelEncoder.fit_transform(df[column_name]) \n",
        "#df = pd.get_dummies(df, columns=['SocioCateg'])"
      ],
      "execution_count": 0,
      "outputs": []
    },
    {
      "cell_type": "code",
      "metadata": {
        "id": "5-yHwbCZY6BE",
        "colab_type": "code",
        "colab": {}
      },
      "source": [
        "from datetime import timedelta\n",
        "df['RecordEnd'].fillna(df['RecordBeg']+timedelta(365), inplace=True)\n",
        "df['Diff_days'] = (df['RecordEnd']-df['RecordBeg']).dt.days\n",
        "df['Diff_days'] = df['Diff_days'].astype('int')\n",
        "df = df.drop(columns=['RecordBeg','RecordEnd'], axis=1)\n",
        "NUM_FEATURES = NUM_FEATURES+['Diff_days']"
      ],
      "execution_count": 0,
      "outputs": []
    },
    {
      "cell_type": "code",
      "metadata": {
        "id": "--Z5JrChwFGt",
        "colab_type": "code",
        "colab": {}
      },
      "source": [
        "df.loc[df['ClaimAmount']<0, 'ClaimAmount'] = 0"
      ],
      "execution_count": 0,
      "outputs": []
    },
    {
      "cell_type": "code",
      "metadata": {
        "id": "jAzSS5kfwkR0",
        "colab_type": "code",
        "outputId": "4cf3c664-87e5-4b57-9920-950505d1637c",
        "colab": {
          "base_uri": "https://localhost:8080/",
          "height": 402
        }
      },
      "source": [
        "from sklearn.preprocessing import StandardScaler\n",
        "scl_x =StandardScaler()\n",
        "df[NUM_FEATURES] = scl_x.fit_transform(df[NUM_FEATURES].astype('float64'))\n",
        "df.describe()"
      ],
      "execution_count": 13,
      "outputs": [
        {
          "output_type": "execute_result",
          "data": {
            "text/html": [
              "<div>\n",
              "<style scoped>\n",
              "    .dataframe tbody tr th:only-of-type {\n",
              "        vertical-align: middle;\n",
              "    }\n",
              "\n",
              "    .dataframe tbody tr th {\n",
              "        vertical-align: top;\n",
              "    }\n",
              "\n",
              "    .dataframe thead th {\n",
              "        text-align: right;\n",
              "    }\n",
              "</style>\n",
              "<table border=\"1\" class=\"dataframe\">\n",
              "  <thead>\n",
              "    <tr style=\"text-align: right;\">\n",
              "      <th></th>\n",
              "      <th>Exposure</th>\n",
              "      <th>LicAge</th>\n",
              "      <th>VehAge</th>\n",
              "      <th>Gender</th>\n",
              "      <th>MariStat</th>\n",
              "      <th>SocioCateg</th>\n",
              "      <th>VehUsage</th>\n",
              "      <th>DrivAge</th>\n",
              "      <th>HasKmLimit</th>\n",
              "      <th>BonusMalus</th>\n",
              "      <th>VehBody</th>\n",
              "      <th>VehPrice</th>\n",
              "      <th>VehEngine</th>\n",
              "      <th>VehEnergy</th>\n",
              "      <th>VehMaxSpeed</th>\n",
              "      <th>VehClass</th>\n",
              "      <th>ClaimAmount</th>\n",
              "      <th>RiskVar</th>\n",
              "      <th>Garage</th>\n",
              "      <th>ClaimInd</th>\n",
              "      <th>Diff_days</th>\n",
              "    </tr>\n",
              "  </thead>\n",
              "  <tbody>\n",
              "    <tr>\n",
              "      <th>count</th>\n",
              "      <td>4.073200e+04</td>\n",
              "      <td>4.073200e+04</td>\n",
              "      <td>40732.000000</td>\n",
              "      <td>40732.000000</td>\n",
              "      <td>40732.000000</td>\n",
              "      <td>40732.000000</td>\n",
              "      <td>40732.000000</td>\n",
              "      <td>4.073200e+04</td>\n",
              "      <td>40732.000000</td>\n",
              "      <td>4.073200e+04</td>\n",
              "      <td>40732.000000</td>\n",
              "      <td>40732.000000</td>\n",
              "      <td>40732.000000</td>\n",
              "      <td>40732.000000</td>\n",
              "      <td>40732.000000</td>\n",
              "      <td>40732.000000</td>\n",
              "      <td>4.073200e+04</td>\n",
              "      <td>40732.000000</td>\n",
              "      <td>40732.000000</td>\n",
              "      <td>40732.000000</td>\n",
              "      <td>4.073200e+04</td>\n",
              "    </tr>\n",
              "    <tr>\n",
              "      <th>mean</th>\n",
              "      <td>-4.680295e-16</td>\n",
              "      <td>4.598218e-16</td>\n",
              "      <td>3.592360</td>\n",
              "      <td>0.648286</td>\n",
              "      <td>0.713518</td>\n",
              "      <td>30.102573</td>\n",
              "      <td>0.832981</td>\n",
              "      <td>-2.219192e-16</td>\n",
              "      <td>0.132500</td>\n",
              "      <td>-1.398539e-14</td>\n",
              "      <td>4.921585</td>\n",
              "      <td>8.247741</td>\n",
              "      <td>3.384317</td>\n",
              "      <td>2.421143</td>\n",
              "      <td>4.762447</td>\n",
              "      <td>2.937322</td>\n",
              "      <td>6.167246e-15</td>\n",
              "      <td>13.470588</td>\n",
              "      <td>0.930080</td>\n",
              "      <td>0.096165</td>\n",
              "      <td>-4.624161e-15</td>\n",
              "    </tr>\n",
              "    <tr>\n",
              "      <th>std</th>\n",
              "      <td>1.000012e+00</td>\n",
              "      <td>1.000012e+00</td>\n",
              "      <td>2.525515</td>\n",
              "      <td>0.477511</td>\n",
              "      <td>0.452123</td>\n",
              "      <td>8.812405</td>\n",
              "      <td>0.743880</td>\n",
              "      <td>1.000012e+00</td>\n",
              "      <td>0.339038</td>\n",
              "      <td>1.000012e+00</td>\n",
              "      <td>1.368059</td>\n",
              "      <td>4.363498</td>\n",
              "      <td>1.220703</td>\n",
              "      <td>0.906951</td>\n",
              "      <td>2.253569</td>\n",
              "      <td>1.382461</td>\n",
              "      <td>1.000012e+00</td>\n",
              "      <td>4.722731</td>\n",
              "      <td>0.515238</td>\n",
              "      <td>0.294821</td>\n",
              "      <td>1.000012e+00</td>\n",
              "    </tr>\n",
              "    <tr>\n",
              "      <th>min</th>\n",
              "      <td>-1.561655e+00</td>\n",
              "      <td>-1.671362e+00</td>\n",
              "      <td>0.000000</td>\n",
              "      <td>0.000000</td>\n",
              "      <td>0.000000</td>\n",
              "      <td>0.000000</td>\n",
              "      <td>0.000000</td>\n",
              "      <td>-1.786773e+00</td>\n",
              "      <td>0.000000</td>\n",
              "      <td>-9.329002e-01</td>\n",
              "      <td>0.000000</td>\n",
              "      <td>0.000000</td>\n",
              "      <td>0.000000</td>\n",
              "      <td>0.000000</td>\n",
              "      <td>0.000000</td>\n",
              "      <td>0.000000</td>\n",
              "      <td>-1.026899e-01</td>\n",
              "      <td>1.000000</td>\n",
              "      <td>0.000000</td>\n",
              "      <td>0.000000</td>\n",
              "      <td>-1.899747e+00</td>\n",
              "    </tr>\n",
              "    <tr>\n",
              "      <th>25%</th>\n",
              "      <td>-8.800538e-01</td>\n",
              "      <td>-8.175233e-01</td>\n",
              "      <td>2.000000</td>\n",
              "      <td>0.000000</td>\n",
              "      <td>0.000000</td>\n",
              "      <td>32.000000</td>\n",
              "      <td>0.000000</td>\n",
              "      <td>-8.364832e-01</td>\n",
              "      <td>0.000000</td>\n",
              "      <td>-9.329002e-01</td>\n",
              "      <td>5.000000</td>\n",
              "      <td>5.000000</td>\n",
              "      <td>2.000000</td>\n",
              "      <td>1.000000</td>\n",
              "      <td>3.000000</td>\n",
              "      <td>2.000000</td>\n",
              "      <td>-1.026899e-01</td>\n",
              "      <td>11.000000</td>\n",
              "      <td>1.000000</td>\n",
              "      <td>0.000000</td>\n",
              "      <td>-9.815419e-01</td>\n",
              "    </tr>\n",
              "    <tr>\n",
              "      <th>50%</th>\n",
              "      <td>-1.035901e-01</td>\n",
              "      <td>-1.725371e-01</td>\n",
              "      <td>3.000000</td>\n",
              "      <td>1.000000</td>\n",
              "      <td>1.000000</td>\n",
              "      <td>32.000000</td>\n",
              "      <td>1.000000</td>\n",
              "      <td>-1.577046e-01</td>\n",
              "      <td>0.000000</td>\n",
              "      <td>-3.053539e-01</td>\n",
              "      <td>5.000000</td>\n",
              "      <td>8.000000</td>\n",
              "      <td>4.000000</td>\n",
              "      <td>3.000000</td>\n",
              "      <td>5.000000</td>\n",
              "      <td>3.000000</td>\n",
              "      <td>-1.026899e-01</td>\n",
              "      <td>15.000000</td>\n",
              "      <td>1.000000</td>\n",
              "      <td>0.000000</td>\n",
              "      <td>5.641042e-01</td>\n",
              "    </tr>\n",
              "    <tr>\n",
              "      <th>75%</th>\n",
              "      <td>7.747626e-01</td>\n",
              "      <td>7.488717e-01</td>\n",
              "      <td>6.000000</td>\n",
              "      <td>1.000000</td>\n",
              "      <td>1.000000</td>\n",
              "      <td>32.000000</td>\n",
              "      <td>1.000000</td>\n",
              "      <td>7.247077e-01</td>\n",
              "      <td>0.000000</td>\n",
              "      <td>7.566474e-01</td>\n",
              "      <td>5.000000</td>\n",
              "      <td>11.000000</td>\n",
              "      <td>4.000000</td>\n",
              "      <td>3.000000</td>\n",
              "      <td>6.000000</td>\n",
              "      <td>4.000000</td>\n",
              "      <td>-1.026899e-01</td>\n",
              "      <td>17.000000</td>\n",
              "      <td>1.000000</td>\n",
              "      <td>0.000000</td>\n",
              "      <td>8.854762e-01</td>\n",
              "    </tr>\n",
              "    <tr>\n",
              "      <th>max</th>\n",
              "      <td>1.948242e+00</td>\n",
              "      <td>4.102800e+00</td>\n",
              "      <td>8.000000</td>\n",
              "      <td>1.000000</td>\n",
              "      <td>1.000000</td>\n",
              "      <td>51.000000</td>\n",
              "      <td>3.000000</td>\n",
              "      <td>3.982845e+00</td>\n",
              "      <td>1.000000</td>\n",
              "      <td>9.783658e+00</td>\n",
              "      <td>8.000000</td>\n",
              "      <td>26.000000</td>\n",
              "      <td>5.000000</td>\n",
              "      <td>3.000000</td>\n",
              "      <td>9.000000</td>\n",
              "      <td>5.000000</td>\n",
              "      <td>8.058053e+01</td>\n",
              "      <td>20.000000</td>\n",
              "      <td>2.000000</td>\n",
              "      <td>1.000000</td>\n",
              "      <td>8.854762e-01</td>\n",
              "    </tr>\n",
              "  </tbody>\n",
              "</table>\n",
              "</div>"
            ],
            "text/plain": [
              "           Exposure        LicAge  ...      ClaimInd     Diff_days\n",
              "count  4.073200e+04  4.073200e+04  ...  40732.000000  4.073200e+04\n",
              "mean  -4.680295e-16  4.598218e-16  ...      0.096165 -4.624161e-15\n",
              "std    1.000012e+00  1.000012e+00  ...      0.294821  1.000012e+00\n",
              "min   -1.561655e+00 -1.671362e+00  ...      0.000000 -1.899747e+00\n",
              "25%   -8.800538e-01 -8.175233e-01  ...      0.000000 -9.815419e-01\n",
              "50%   -1.035901e-01 -1.725371e-01  ...      0.000000  5.641042e-01\n",
              "75%    7.747626e-01  7.488717e-01  ...      0.000000  8.854762e-01\n",
              "max    1.948242e+00  4.102800e+00  ...      1.000000  8.854762e-01\n",
              "\n",
              "[8 rows x 21 columns]"
            ]
          },
          "metadata": {
            "tags": []
          },
          "execution_count": 13
        }
      ]
    },
    {
      "cell_type": "code",
      "metadata": {
        "id": "mn0qUB9uZkpJ",
        "colab_type": "code",
        "outputId": "8838ed2f-33dc-419b-9c55-74a714babeae",
        "colab": {
          "base_uri": "https://localhost:8080/",
          "height": 459
        }
      },
      "source": [
        "df.info()"
      ],
      "execution_count": 14,
      "outputs": [
        {
          "output_type": "stream",
          "text": [
            "<class 'pandas.core.frame.DataFrame'>\n",
            "RangeIndex: 40732 entries, 0 to 40731\n",
            "Data columns (total 21 columns):\n",
            "Exposure       40732 non-null float64\n",
            "LicAge         40732 non-null float64\n",
            "VehAge         40732 non-null int64\n",
            "Gender         40732 non-null int64\n",
            "MariStat       40732 non-null int64\n",
            "SocioCateg     40732 non-null int64\n",
            "VehUsage       40732 non-null int64\n",
            "DrivAge        40732 non-null float64\n",
            "HasKmLimit     40732 non-null int64\n",
            "BonusMalus     40732 non-null float64\n",
            "VehBody        40732 non-null int64\n",
            "VehPrice       40732 non-null int64\n",
            "VehEngine      40732 non-null int64\n",
            "VehEnergy      40732 non-null int64\n",
            "VehMaxSpeed    40732 non-null int64\n",
            "VehClass       40732 non-null int64\n",
            "ClaimAmount    40732 non-null float64\n",
            "RiskVar        40732 non-null float64\n",
            "Garage         40732 non-null int64\n",
            "ClaimInd       40732 non-null int64\n",
            "Diff_days      40732 non-null float64\n",
            "dtypes: float64(7), int64(14)\n",
            "memory usage: 6.5 MB\n"
          ],
          "name": "stdout"
        }
      ]
    },
    {
      "cell_type": "markdown",
      "metadata": {
        "id": "ZQTHeyBFZx-5",
        "colab_type": "text"
      },
      "source": [
        "##### Построение модели"
      ]
    },
    {
      "cell_type": "markdown",
      "metadata": {
        "id": "cqwGj_fcZ32R",
        "colab_type": "text"
      },
      "source": [
        "XGBoost для многоклассовой классификации принимает на вход значения меток классов в виде `[0, num_classes]`. Поэтому, вычтем из значений переменной `RiskVar` единицу."
      ]
    },
    {
      "cell_type": "code",
      "metadata": {
        "id": "xmKSY2ubZvNC",
        "colab_type": "code",
        "colab": {}
      },
      "source": [
        "df[TARGET] = df[TARGET] -1"
      ],
      "execution_count": 0,
      "outputs": []
    },
    {
      "cell_type": "code",
      "metadata": {
        "id": "e3MxhO_6a0yi",
        "colab_type": "code",
        "outputId": "7be35ef3-3628-4818-e9de-2d8433b75909",
        "colab": {
          "base_uri": "https://localhost:8080/",
          "height": 204
        }
      },
      "source": [
        "df.head()"
      ],
      "execution_count": 16,
      "outputs": [
        {
          "output_type": "execute_result",
          "data": {
            "text/html": [
              "<div>\n",
              "<style scoped>\n",
              "    .dataframe tbody tr th:only-of-type {\n",
              "        vertical-align: middle;\n",
              "    }\n",
              "\n",
              "    .dataframe tbody tr th {\n",
              "        vertical-align: top;\n",
              "    }\n",
              "\n",
              "    .dataframe thead th {\n",
              "        text-align: right;\n",
              "    }\n",
              "</style>\n",
              "<table border=\"1\" class=\"dataframe\">\n",
              "  <thead>\n",
              "    <tr style=\"text-align: right;\">\n",
              "      <th></th>\n",
              "      <th>Exposure</th>\n",
              "      <th>LicAge</th>\n",
              "      <th>VehAge</th>\n",
              "      <th>Gender</th>\n",
              "      <th>MariStat</th>\n",
              "      <th>SocioCateg</th>\n",
              "      <th>VehUsage</th>\n",
              "      <th>DrivAge</th>\n",
              "      <th>HasKmLimit</th>\n",
              "      <th>BonusMalus</th>\n",
              "      <th>VehBody</th>\n",
              "      <th>VehPrice</th>\n",
              "      <th>VehEngine</th>\n",
              "      <th>VehEnergy</th>\n",
              "      <th>VehMaxSpeed</th>\n",
              "      <th>VehClass</th>\n",
              "      <th>ClaimAmount</th>\n",
              "      <th>RiskVar</th>\n",
              "      <th>Garage</th>\n",
              "      <th>ClaimInd</th>\n",
              "      <th>Diff_days</th>\n",
              "    </tr>\n",
              "  </thead>\n",
              "  <tbody>\n",
              "    <tr>\n",
              "      <th>0</th>\n",
              "      <td>0.483149</td>\n",
              "      <td>0.576875</td>\n",
              "      <td>3</td>\n",
              "      <td>0</td>\n",
              "      <td>1</td>\n",
              "      <td>0</td>\n",
              "      <td>2</td>\n",
              "      <td>0.724708</td>\n",
              "      <td>0</td>\n",
              "      <td>0.129101</td>\n",
              "      <td>5</td>\n",
              "      <td>3</td>\n",
              "      <td>4</td>\n",
              "      <td>3</td>\n",
              "      <td>4</td>\n",
              "      <td>2</td>\n",
              "      <td>-0.102690</td>\n",
              "      <td>14.0</td>\n",
              "      <td>1</td>\n",
              "      <td>0</td>\n",
              "      <td>0.885476</td>\n",
              "    </tr>\n",
              "    <tr>\n",
              "      <th>1</th>\n",
              "      <td>-0.862487</td>\n",
              "      <td>-0.522672</td>\n",
              "      <td>0</td>\n",
              "      <td>1</td>\n",
              "      <td>0</td>\n",
              "      <td>34</td>\n",
              "      <td>1</td>\n",
              "      <td>-0.700727</td>\n",
              "      <td>0</td>\n",
              "      <td>0.515283</td>\n",
              "      <td>3</td>\n",
              "      <td>10</td>\n",
              "      <td>2</td>\n",
              "      <td>1</td>\n",
              "      <td>5</td>\n",
              "      <td>4</td>\n",
              "      <td>-0.102690</td>\n",
              "      <td>19.0</td>\n",
              "      <td>1</td>\n",
              "      <td>0</td>\n",
              "      <td>0.885476</td>\n",
              "    </tr>\n",
              "    <tr>\n",
              "      <th>2</th>\n",
              "      <td>-1.273556</td>\n",
              "      <td>-0.633242</td>\n",
              "      <td>1</td>\n",
              "      <td>0</td>\n",
              "      <td>1</td>\n",
              "      <td>0</td>\n",
              "      <td>2</td>\n",
              "      <td>-0.768605</td>\n",
              "      <td>0</td>\n",
              "      <td>-0.305354</td>\n",
              "      <td>4</td>\n",
              "      <td>11</td>\n",
              "      <td>2</td>\n",
              "      <td>1</td>\n",
              "      <td>5</td>\n",
              "      <td>4</td>\n",
              "      <td>-0.102690</td>\n",
              "      <td>16.0</td>\n",
              "      <td>1</td>\n",
              "      <td>0</td>\n",
              "      <td>-1.670196</td>\n",
              "    </tr>\n",
              "    <tr>\n",
              "      <th>3</th>\n",
              "      <td>-0.247640</td>\n",
              "      <td>-0.627099</td>\n",
              "      <td>1</td>\n",
              "      <td>0</td>\n",
              "      <td>1</td>\n",
              "      <td>0</td>\n",
              "      <td>2</td>\n",
              "      <td>-0.700727</td>\n",
              "      <td>0</td>\n",
              "      <td>-0.305354</td>\n",
              "      <td>4</td>\n",
              "      <td>11</td>\n",
              "      <td>2</td>\n",
              "      <td>1</td>\n",
              "      <td>5</td>\n",
              "      <td>4</td>\n",
              "      <td>-0.102690</td>\n",
              "      <td>16.0</td>\n",
              "      <td>2</td>\n",
              "      <td>0</td>\n",
              "      <td>0.885476</td>\n",
              "    </tr>\n",
              "    <tr>\n",
              "      <th>4</th>\n",
              "      <td>0.191536</td>\n",
              "      <td>-0.295392</td>\n",
              "      <td>4</td>\n",
              "      <td>1</td>\n",
              "      <td>1</td>\n",
              "      <td>28</td>\n",
              "      <td>2</td>\n",
              "      <td>0.588952</td>\n",
              "      <td>0</td>\n",
              "      <td>0.129101</td>\n",
              "      <td>8</td>\n",
              "      <td>11</td>\n",
              "      <td>2</td>\n",
              "      <td>1</td>\n",
              "      <td>2</td>\n",
              "      <td>0</td>\n",
              "      <td>0.597672</td>\n",
              "      <td>18.0</td>\n",
              "      <td>1</td>\n",
              "      <td>1</td>\n",
              "      <td>-0.514787</td>\n",
              "    </tr>\n",
              "  </tbody>\n",
              "</table>\n",
              "</div>"
            ],
            "text/plain": [
              "   Exposure    LicAge  VehAge  Gender  ...  RiskVar  Garage  ClaimInd  Diff_days\n",
              "0  0.483149  0.576875       3       0  ...     14.0       1         0   0.885476\n",
              "1 -0.862487 -0.522672       0       1  ...     19.0       1         0   0.885476\n",
              "2 -1.273556 -0.633242       1       0  ...     16.0       1         0  -1.670196\n",
              "3 -0.247640 -0.627099       1       0  ...     16.0       2         0   0.885476\n",
              "4  0.191536 -0.295392       4       1  ...     18.0       1         1  -0.514787\n",
              "\n",
              "[5 rows x 21 columns]"
            ]
          },
          "metadata": {
            "tags": []
          },
          "execution_count": 16
        }
      ]
    },
    {
      "cell_type": "markdown",
      "metadata": {
        "id": "GqK8A3qyaEeC",
        "colab_type": "text"
      },
      "source": [
        "Данная переменная принимает значения от 1 до 20, которые, возможно, упорядочены. Посмотрим, сколько полисов соответствуют каждому из значений `RiskVar`, используя метод `groupby`. Для полученных значений также посчитаем нормированную частоту."
      ]
    },
    {
      "cell_type": "code",
      "metadata": {
        "id": "CQeRFjZnaJxh",
        "colab_type": "code",
        "outputId": "42c0ff58-9254-43eb-c169-23f37f20b59a",
        "colab": {
          "base_uri": "https://localhost:8080/",
          "height": 700
        }
      },
      "source": [
        "FreqCount = pd.DataFrame(data=df[TARGET].value_counts())\n",
        "FreqCount.index.name = TARGET\n",
        "FreqCount.columns = ['Count']\n",
        "FreqCount['Freq'] = FreqCount['Count']/df.shape[0]\n",
        "FreqCount "
      ],
      "execution_count": 17,
      "outputs": [
        {
          "output_type": "execute_result",
          "data": {
            "text/html": [
              "<div>\n",
              "<style scoped>\n",
              "    .dataframe tbody tr th:only-of-type {\n",
              "        vertical-align: middle;\n",
              "    }\n",
              "\n",
              "    .dataframe tbody tr th {\n",
              "        vertical-align: top;\n",
              "    }\n",
              "\n",
              "    .dataframe thead th {\n",
              "        text-align: right;\n",
              "    }\n",
              "</style>\n",
              "<table border=\"1\" class=\"dataframe\">\n",
              "  <thead>\n",
              "    <tr style=\"text-align: right;\">\n",
              "      <th></th>\n",
              "      <th>Count</th>\n",
              "      <th>Freq</th>\n",
              "    </tr>\n",
              "    <tr>\n",
              "      <th>RiskVar</th>\n",
              "      <th></th>\n",
              "      <th></th>\n",
              "    </tr>\n",
              "  </thead>\n",
              "  <tbody>\n",
              "    <tr>\n",
              "      <th>15.0</th>\n",
              "      <td>4906</td>\n",
              "      <td>0.120446</td>\n",
              "    </tr>\n",
              "    <tr>\n",
              "      <th>14.0</th>\n",
              "      <td>4625</td>\n",
              "      <td>0.113547</td>\n",
              "    </tr>\n",
              "    <tr>\n",
              "      <th>16.0</th>\n",
              "      <td>3444</td>\n",
              "      <td>0.084553</td>\n",
              "    </tr>\n",
              "    <tr>\n",
              "      <th>19.0</th>\n",
              "      <td>2894</td>\n",
              "      <td>0.071050</td>\n",
              "    </tr>\n",
              "    <tr>\n",
              "      <th>18.0</th>\n",
              "      <td>2773</td>\n",
              "      <td>0.068079</td>\n",
              "    </tr>\n",
              "    <tr>\n",
              "      <th>12.0</th>\n",
              "      <td>2719</td>\n",
              "      <td>0.066753</td>\n",
              "    </tr>\n",
              "    <tr>\n",
              "      <th>17.0</th>\n",
              "      <td>2614</td>\n",
              "      <td>0.064176</td>\n",
              "    </tr>\n",
              "    <tr>\n",
              "      <th>10.0</th>\n",
              "      <td>2533</td>\n",
              "      <td>0.062187</td>\n",
              "    </tr>\n",
              "    <tr>\n",
              "      <th>11.0</th>\n",
              "      <td>2445</td>\n",
              "      <td>0.060027</td>\n",
              "    </tr>\n",
              "    <tr>\n",
              "      <th>13.0</th>\n",
              "      <td>2096</td>\n",
              "      <td>0.051458</td>\n",
              "    </tr>\n",
              "    <tr>\n",
              "      <th>6.0</th>\n",
              "      <td>1634</td>\n",
              "      <td>0.040116</td>\n",
              "    </tr>\n",
              "    <tr>\n",
              "      <th>7.0</th>\n",
              "      <td>1439</td>\n",
              "      <td>0.035328</td>\n",
              "    </tr>\n",
              "    <tr>\n",
              "      <th>9.0</th>\n",
              "      <td>1314</td>\n",
              "      <td>0.032260</td>\n",
              "    </tr>\n",
              "    <tr>\n",
              "      <th>8.0</th>\n",
              "      <td>1170</td>\n",
              "      <td>0.028724</td>\n",
              "    </tr>\n",
              "    <tr>\n",
              "      <th>4.0</th>\n",
              "      <td>979</td>\n",
              "      <td>0.024035</td>\n",
              "    </tr>\n",
              "    <tr>\n",
              "      <th>5.0</th>\n",
              "      <td>902</td>\n",
              "      <td>0.022145</td>\n",
              "    </tr>\n",
              "    <tr>\n",
              "      <th>2.0</th>\n",
              "      <td>660</td>\n",
              "      <td>0.016203</td>\n",
              "    </tr>\n",
              "    <tr>\n",
              "      <th>3.0</th>\n",
              "      <td>603</td>\n",
              "      <td>0.014804</td>\n",
              "    </tr>\n",
              "    <tr>\n",
              "      <th>0.0</th>\n",
              "      <td>531</td>\n",
              "      <td>0.013036</td>\n",
              "    </tr>\n",
              "    <tr>\n",
              "      <th>1.0</th>\n",
              "      <td>451</td>\n",
              "      <td>0.011072</td>\n",
              "    </tr>\n",
              "  </tbody>\n",
              "</table>\n",
              "</div>"
            ],
            "text/plain": [
              "         Count      Freq\n",
              "RiskVar                 \n",
              "15.0      4906  0.120446\n",
              "14.0      4625  0.113547\n",
              "16.0      3444  0.084553\n",
              "19.0      2894  0.071050\n",
              "18.0      2773  0.068079\n",
              "12.0      2719  0.066753\n",
              "17.0      2614  0.064176\n",
              "10.0      2533  0.062187\n",
              "11.0      2445  0.060027\n",
              "13.0      2096  0.051458\n",
              "6.0       1634  0.040116\n",
              "7.0       1439  0.035328\n",
              "9.0       1314  0.032260\n",
              "8.0       1170  0.028724\n",
              "4.0        979  0.024035\n",
              "5.0        902  0.022145\n",
              "2.0        660  0.016203\n",
              "3.0        603  0.014804\n",
              "0.0        531  0.013036\n",
              "1.0        451  0.011072"
            ]
          },
          "metadata": {
            "tags": []
          },
          "execution_count": 17
        }
      ]
    },
    {
      "cell_type": "code",
      "metadata": {
        "id": "b8cEMq4NaOih",
        "colab_type": "code",
        "outputId": "8855ae1e-761f-4c03-a0fb-0405d01064f2",
        "colab": {
          "base_uri": "https://localhost:8080/",
          "height": 292
        }
      },
      "source": [
        "FreqCount.Freq.plot(kind='bar')\n",
        "plt.ylabel('Frequency')\n",
        "plt.show()"
      ],
      "execution_count": 18,
      "outputs": [
        {
          "output_type": "display_data",
          "data": {
            "image/png": "[encoded data removed]",
            "text/plain": [
              "<Figure size 432x288 with 1 Axes>"
            ]
          },
          "metadata": {
            "tags": []
          }
        }
      ]
    },
    {
      "cell_type": "markdown",
      "metadata": {
        "id": "hzQeZkZqet58",
        "colab_type": "text"
      },
      "source": [
        "Заметим, что в данном случае присутствует проблема несбалансированности классов. Поэтому, для того, чтобы по возможности избежать ее, воспользуемся взвешиванием наблюдений для обучения модели. Для этого в исходном наборе данных создадим столбец `weight`. Присвоим ему некоторые значения, например, можно задать `0.5` для значений `RiskVar` 14 и 15, а для остальных - 1 (Для этого можем использовать функцию `np.where` и метод `isin` для `pandas.Series`). Также можно попробовать какой-либо другой способ задания весов."
      ]
    },
    {
      "cell_type": "code",
      "metadata": {
        "id": "P9toMTjNes1O",
        "colab_type": "code",
        "colab": {}
      },
      "source": [
        "df['weight'] = 0.75\n",
        "df.loc[df[TARGET].isin([14,15]) , 'weight'] = 0.5\n",
        "df.loc[df[TARGET].isin([16]) , 'weight'] = 0.6\n",
        "df.loc[df[TARGET].isin([1,0, 3, 2, 5, 4, 8, 9 ,7, 6]) , 'weight'] = 1"
      ],
      "execution_count": 0,
      "outputs": []
    },
    {
      "cell_type": "code",
      "metadata": {
        "id": "rBNexjgqfX32",
        "colab_type": "code",
        "outputId": "51e511fa-2ed3-4069-e8f0-cf6ea672b3be",
        "colab": {
          "base_uri": "https://localhost:8080/",
          "height": 102
        }
      },
      "source": [
        "df['weight'].value_counts()"
      ],
      "execution_count": 20,
      "outputs": [
        {
          "output_type": "execute_result",
          "data": {
            "text/plain": [
              "0.75    18074\n",
              "1.00     9683\n",
              "0.50     9531\n",
              "0.60     3444\n",
              "Name: weight, dtype: int64"
            ]
          },
          "metadata": {
            "tags": []
          },
          "execution_count": 20
        }
      ]
    },
    {
      "cell_type": "markdown",
      "metadata": {
        "id": "HScO264sf05b",
        "colab_type": "text"
      },
      "source": [
        "Разобьем имеющийся набор данных на обучающую, валидационную и тестовую выборки в отношениях 70%/15%/15% соответственно. Зададим зерно для случайного разбиения равным 10."
      ]
    },
    {
      "cell_type": "code",
      "metadata": {
        "id": "AmKf3fJsf6V7",
        "colab_type": "code",
        "colab": {}
      },
      "source": [
        "# Разбиение датасета на train/val/test\n",
        "\n",
        "x_train, x_test, y_train, y_test = train_test_split(df.drop(columns=TARGET, axis=1), df[TARGET], stratify= df[TARGET], test_size=0.3, random_state=10)\n",
        "x_valid, x_test, y_valid, y_test = train_test_split(x_test, y_test, stratify= y_test, test_size=0.5, random_state=10)"
      ],
      "execution_count": 0,
      "outputs": []
    },
    {
      "cell_type": "markdown",
      "metadata": {
        "id": "2UpHGFvFgG8L",
        "colab_type": "text"
      },
      "source": [
        "Далее, создадим объекты `DMatrix` для обучающей, валидационной и тестовой выборок. Для обучающей выборки также укажем параметр `weight` равным полученному ранее столбцу весов. Данный столбец также нужно исключить из объекта передаваемого в параметр `data`."
      ]
    },
    {
      "cell_type": "code",
      "metadata": {
        "id": "7yCB-ggqgGH5",
        "colab_type": "code",
        "outputId": "a9537321-7ba3-405b-f9a3-2e4175004a11",
        "colab": {
          "base_uri": "https://localhost:8080/",
          "height": 85
        }
      },
      "source": [
        "xgb_train = xgb.DMatrix(data=x_train.drop('weight', axis=1),label= (y_train), weight=x_train['weight'])\n",
        "xgb_valid = xgb.DMatrix(data=x_valid.drop('weight', axis=1),label= (y_valid), weight=x_train['weight'])\n",
        "xgb_test =  xgb.DMatrix(data=x_test.drop('weight', axis=1), label= (y_test), weight=x_train['weight'])"
      ],
      "execution_count": 22,
      "outputs": [
        {
          "output_type": "stream",
          "text": [
            "/usr/local/lib/python3.6/dist-packages/xgboost/core.py:587: FutureWarning: Series.base is deprecated and will be removed in a future version\n",
            "  if getattr(data, 'base', None) is not None and \\\n",
            "/usr/local/lib/python3.6/dist-packages/xgboost/core.py:588: FutureWarning: Series.base is deprecated and will be removed in a future version\n",
            "  data.base is not None and isinstance(data, np.ndarray) \\\n"
          ],
          "name": "stderr"
        }
      ]
    },
    {
      "cell_type": "code",
      "metadata": {
        "id": "zUsHls86rRoS",
        "colab_type": "code",
        "colab": {}
      },
      "source": [
        "\n",
        "params = {'alpha': 0.8188267506985407,\n",
        "          'colsample_bytree': 0.730304738424674,\n",
        "          'eta': 0.10162516795034682,\n",
        "          'eval_metric': 'mlogloss',\n",
        "          'lambda': 0.48066389042451657,\n",
        "          'max_depth': 12,\n",
        "          'min_child_weight': 0.10803644133630286,\n",
        "          'num_boost_round': 429.0,\n",
        "          'num_class': 20,\n",
        "          'objective': 'multi:softprob',\n",
        "          'seed': 10,\n",
        "          'subsample': 0.5017331721376306,\n",
        "          'tree_method': 'gpu_hist'\n",
        "         }\n",
        "\n",
        "model = xgb.train(params,  xgb_train)\n"
      ],
      "execution_count": 0,
      "outputs": []
    },
    {
      "cell_type": "code",
      "metadata": {
        "id": "0bsa6UUMJR7-",
        "colab_type": "code",
        "colab": {}
      },
      "source": [
        "def prepare_result(predictions):\n",
        "    df_class_preds = pd.DataFrame(predictions)\n",
        "    return df_class_preds.idxmax(axis=1)"
      ],
      "execution_count": 0,
      "outputs": []
    },
    {
      "cell_type": "code",
      "metadata": {
        "id": "Ngd2wVGmr5a5",
        "colab_type": "code",
        "outputId": "99669929-d725-44d2-803e-f5867d3a2141",
        "colab": {
          "base_uri": "https://localhost:8080/",
          "height": 85
        }
      },
      "source": [
        "from sklearn.metrics import log_loss\n",
        "\n",
        "def print_score(model, x_valid, label_valid):\n",
        "  pred_valid = model.predict(x_valid)\n",
        "  score = log_loss(label_valid, pred_valid, labels=range(20))\n",
        "  print(f'Logloss:{score}')\n",
        "  score = f1_score(label_valid, prepare_result(pred_valid)  , average='micro')\n",
        "  print(f'f1_score:{score}')\n",
        "\n",
        "print_score(model, xgb_train, y_train)\n",
        "print_score(model, xgb_valid, y_valid)\n"
      ],
      "execution_count": 25,
      "outputs": [
        {
          "output_type": "stream",
          "text": [
            "Logloss:2.4212918750644903\n",
            "f1_score:0.5839646464646465\n",
            "Logloss:2.785812324841557\n",
            "f1_score:0.20409165302782323\n"
          ],
          "name": "stdout"
        }
      ]
    },
    {
      "cell_type": "code",
      "metadata": {
        "id": "HB3gZCKrjUmk",
        "colab_type": "code",
        "outputId": "5c310d0e-3373-4653-f72d-bea998db3618",
        "colab": {
          "base_uri": "https://localhost:8080/",
          "height": 295
        }
      },
      "source": [
        "importance_type = ['total_gain', 'gain', 'weight', 'total_cover', 'cover']\n",
        "xgb.plot_importance(model, importance_type=importance_type[0]); plt.show()"
      ],
      "execution_count": 26,
      "outputs": [
        {
          "output_type": "display_data",
          "data": {
            "image/png": "[encoded data removed]",
            "text/plain": [
              "<Figure size 432x288 with 1 Axes>"
            ]
          },
          "metadata": {
            "tags": []
          }
        }
      ]
    },
    {
      "cell_type": "code",
      "metadata": {
        "id": "BxknV5awgXMc",
        "colab_type": "code",
        "colab": {
          "base_uri": "https://localhost:8080/",
          "height": 357
        },
        "outputId": "07dff1de-67ab-4bbc-89a9-9dee820bffca"
      },
      "source": [
        "ALL_FEATS=sorted(model.get_fscore().items(), key=lambda x:x[1], reverse=True)\n",
        "ALL_FEATS"
      ],
      "execution_count": 27,
      "outputs": [
        {
          "output_type": "execute_result",
          "data": {
            "text/plain": [
              "[('Exposure', 9656),\n",
              " ('LicAge', 9184),\n",
              " ('DrivAge', 7395),\n",
              " ('VehPrice', 5344),\n",
              " ('Diff_days', 4518),\n",
              " ('VehAge', 4397),\n",
              " ('BonusMalus', 4358),\n",
              " ('VehMaxSpeed', 4206),\n",
              " ('SocioCateg', 3032),\n",
              " ('VehClass', 2536),\n",
              " ('VehBody', 2357),\n",
              " ('VehUsage', 2201),\n",
              " ('VehEngine', 1812),\n",
              " ('Garage', 1745),\n",
              " ('ClaimAmount', 1372),\n",
              " ('Gender', 1265),\n",
              " ('MariStat', 1088),\n",
              " ('HasKmLimit', 952),\n",
              " ('VehEnergy', 782),\n",
              " ('ClaimInd', 174)]"
            ]
          },
          "metadata": {
            "tags": []
          },
          "execution_count": 27
        }
      ]
    },
    {
      "cell_type": "markdown",
      "metadata": {
        "id": "BP-phYZ6jBTO",
        "colab_type": "text"
      },
      "source": [
        "##### Подбор гиперпараметров "
      ]
    },
    {
      "cell_type": "code",
      "metadata": {
        "id": "-BdV6oUEgGwa",
        "colab_type": "code",
        "colab": {}
      },
      "source": [
        "def f1_eval(y_pred, dtrain):\n",
        "    y_true = dtrain.get_label()\n",
        "    df_class_preds = pd.DataFrame(y_pred)\n",
        "    y_pred_max =  df_class_preds.idxmax(axis=1)\n",
        "    err = 1-f1_score( y_true, y_pred_max, average='micro')    \n",
        "    return 'f1_err', err"
      ],
      "execution_count": 0,
      "outputs": []
    },
    {
      "cell_type": "code",
      "metadata": {
        "id": "CCKJllUGkABU",
        "colab_type": "code",
        "colab": {}
      },
      "source": [
        "# Определим функцию для оптимизации гиперпараметров алгоритмом TPE\n",
        "\n",
        "def objective(params):\n",
        "    global xgb_train\n",
        "    parameters = {\n",
        "        'objective': params[ 'objective'],\n",
        "        'max_depth':  int(params['max_depth']),\n",
        "        'min_child_weight': params['min_child_weight'],\n",
        "        'subsample': params['subsample'],\n",
        "        'colsample_bytree': params['colsample_bytree'],\n",
        "        'eta': params['eta'],\n",
        "        'alpha': params['alpha'],\n",
        "        'lambda': params['lambda'],\n",
        "        'num_class': params[ 'num_class'],\n",
        "        'tree_method': params['tree_method'],\n",
        "        'eval_metric':params['eval_metric'],\n",
        "        'seed':params['seed']\n",
        "    }\n",
        "    \n",
        "    cv_result = xgb.cv(parameters, xgb_train, num_boost_round=int(params['num_boost_round']), nfold=5, seed=10, maximize=False, early_stopping_rounds=10, feval=f1_eval)\n",
        "    score = cv_result['test-f1_err-mean'][-1:].values[0]\n",
        "    return score"
      ],
      "execution_count": 0,
      "outputs": []
    },
    {
      "cell_type": "code",
      "metadata": {
        "id": "BewDUkaUkEnF",
        "colab_type": "code",
        "colab": {}
      },
      "source": [
        "# Определим границы, в которых будем искать гиперпараметры \n",
        "\n",
        "space = {\n",
        "         'num_boost_round': hp.quniform('num_boost_round', 50, 500, 1),\n",
        "         'max_depth': hp.choice('max_depth', [5, 8, 10, 12, 15]),\n",
        "         'min_child_weight': hp.uniform('min_child_weight', 0, 50),\n",
        "         'subsample': hp.uniform('subsample', 0.5, 1),\n",
        "         'colsample_bytree': hp.uniform('colsample_bytree', 0.5, 1),\n",
        "         'alpha': hp.uniform('alpha', 0, 1),\n",
        "         'lambda': hp.uniform('lambda', 0, 1),\n",
        "         'eta': hp.uniform('eta', 0.01, 1),\n",
        "         'num_class': 20,\n",
        "         'objective': 'multi:softprob',\n",
        "         'tree_method': 'gpu_hist',\n",
        "          'eval_metric':'mlogloss',\n",
        "          'seed':10\n",
        "        }"
      ],
      "execution_count": 0,
      "outputs": []
    },
    {
      "cell_type": "code",
      "metadata": {
        "id": "wYuCjQRqkGz0",
        "colab_type": "code",
        "outputId": "eb46313b-8684-409c-c908-0f3ba6777c45",
        "colab": {
          "base_uri": "https://localhost:8080/",
          "height": 34
        }
      },
      "source": [
        "best = fmin(fn=objective, space=space, algo=tpe.suggest, max_evals=20)"
      ],
      "execution_count": 31,
      "outputs": [
        {
          "output_type": "stream",
          "text": [
            "100%|██████████| 20/20 [13:26<00:00, 28.10s/it, best loss: 0.7611888]\n"
          ],
          "name": "stdout"
        }
      ]
    },
    {
      "cell_type": "code",
      "metadata": {
        "id": "B7cmhmww0_a9",
        "colab_type": "code",
        "outputId": "760776b1-014b-472a-fb80-f5b6c0461f47",
        "colab": {
          "base_uri": "https://localhost:8080/",
          "height": 238
        }
      },
      "source": [
        "best_params = space_eval(space, best)\n",
        "best_params"
      ],
      "execution_count": 32,
      "outputs": [
        {
          "output_type": "execute_result",
          "data": {
            "text/plain": [
              "{'alpha': 0.9604300297355819,\n",
              " 'colsample_bytree': 0.6460360678232007,\n",
              " 'eta': 0.3200457720356095,\n",
              " 'eval_metric': 'mlogloss',\n",
              " 'lambda': 0.16474584783745205,\n",
              " 'max_depth': 12,\n",
              " 'min_child_weight': 0.8719037947725938,\n",
              " 'num_boost_round': 162.0,\n",
              " 'num_class': 20,\n",
              " 'objective': 'multi:softprob',\n",
              " 'seed': 10,\n",
              " 'subsample': 0.7410991209616851,\n",
              " 'tree_method': 'gpu_hist'}"
            ]
          },
          "metadata": {
            "tags": []
          },
          "execution_count": 32
        }
      ]
    },
    {
      "cell_type": "code",
      "metadata": {
        "id": "h-F-N30O6PjE",
        "colab_type": "code",
        "colab": {}
      },
      "source": [
        "progress = dict()\n",
        "xgb_multiclass = xgb.train(num_boost_round=int(best_params.pop('num_boost_round')), params=best_params,  dtrain=xgb_train, feval=f1_eval, maximize=False, evals=[(xgb_train, \"train\"),(xgb_valid, \"valid\")], \n",
        "                           early_stopping_rounds=15, evals_result=progress, verbose_eval=False)"
      ],
      "execution_count": 0,
      "outputs": []
    },
    {
      "cell_type": "code",
      "metadata": {
        "id": "rnfTYJTWcs9a",
        "colab_type": "code",
        "colab": {
          "base_uri": "https://localhost:8080/",
          "height": 441
        },
        "outputId": "02bf9fbc-c11e-4a52-ff67-c5f0596dc75b"
      },
      "source": [
        "plt.subplots(2,1, figsize=(10,6))\n",
        "plt.subplot(2,1,1)\n",
        "plt.plot(progress['valid']['mlogloss'], label='valid mlogloss', linestyle='dashed', color='black')\n",
        "plt.plot(progress['train']['mlogloss'], label='train mlogloss', linestyle='dashed', color='red')\n",
        "plt.xlabel('Epochs'); plt.ylabel('mlogloss'); plt.legend(); plt.tight_layout()\n",
        "plt.subplot(2,1,2)\n",
        "plt.plot(progress['valid']['f1_err'], label='valid f1_err', linestyle='dashed', color='black')\n",
        "plt.plot(progress['train']['f1_err'], label='train f1_err', linestyle='dashed', color='red')\n",
        "plt.xlabel('Epochs'); plt.ylabel('f1_err'); plt.legend(); plt.tight_layout()"
      ],
      "execution_count": 34,
      "outputs": [
        {
          "output_type": "display_data",
          "data": {
            "image/png": "[encoded data removed]",
            "text/plain": [
              "<Figure size 720x432 with 2 Axes>"
            ]
          },
          "metadata": {
            "tags": []
          }
        }
      ]
    },
    {
      "cell_type": "code",
      "metadata": {
        "id": "nhHgG_3b6In5",
        "colab_type": "code",
        "outputId": "9d562f5c-5d33-48cc-9e54-d236534f86bb",
        "colab": {
          "base_uri": "https://localhost:8080/",
          "height": 68
        }
      },
      "source": [
        "dfsets = [{'set': 'train', 'dmat': xgb_train, 'target': y_train},\n",
        "          {'set': 'valid', 'dmat': xgb_valid, 'target': y_valid},\n",
        "          {'set': 'test', 'dmat': xgb_test, 'target': y_test}]\n",
        "for dfset in dfsets:\n",
        "    class_preds =  prepare_result(xgb_multiclass.predict(dfset['dmat']))\n",
        "    print('F1 Score on ' + str(dfset['set'])+':', f1_score(dfset['target'], class_preds , average='micro')) "
      ],
      "execution_count": 35,
      "outputs": [
        {
          "output_type": "stream",
          "text": [
            "F1 Score on train: 0.9997895622895623\n",
            "F1 Score on valid: 0.3057283142389525\n",
            "F1 Score on test: 0.3111292962356792\n"
          ],
          "name": "stdout"
        }
      ]
    },
    {
      "cell_type": "code",
      "metadata": {
        "id": "Pmkp3aQw6pq3",
        "colab_type": "code",
        "outputId": "c44c86cf-88ce-4418-934f-6210414da660",
        "colab": {
          "base_uri": "https://localhost:8080/",
          "height": 225
        }
      },
      "source": [
        "plt.subplots(1,3, figsize=(25,3))\n",
        "for i in range(len(dfsets)):\n",
        "    confmatrix = confusion_matrix(dfsets[i]['target'], prepare_result(xgb_multiclass.predict(dfsets[i]['dmat'])))\n",
        "    plt.subplot(1,3,i+1)\n",
        "    plt.imshow(confmatrix, cmap='Greys')\n",
        "    plt.colorbar()\n",
        "    plt.ylabel('True')\n",
        "    plt.xlabel('Predicted '+ str(dfsets[i]['set']))\n",
        "plt.show()"
      ],
      "execution_count": 36,
      "outputs": [
        {
          "output_type": "display_data",
          "data": {
            "image/png": "[encoded data removed]",
            "text/plain": [
              "<Figure size 1800x216 with 6 Axes>"
            ]
          },
          "metadata": {
            "tags": []
          }
        }
      ]
    },
    {
      "cell_type": "markdown",
      "metadata": {
        "id": "YeQVTOnhZbWf",
        "colab_type": "text"
      },
      "source": [
        "##### Как вы оцениваете качество построенной модели? Какие проблемы могут здесь присутствовать? Как можно улучшить результат?"
      ]
    },
    {
      "cell_type": "markdown",
      "metadata": {
        "id": "B8Q3ey_ZZkR0",
        "colab_type": "text"
      },
      "source": [
        "О модели:\n",
        "\n",
        "1. Модель переобучена - оценка метрики на train сильно отличается от valid и test. При этом графике хорошо видно, как быстро модель на train переобучается. Регулиризация L1 и L2 помогает слабо по найденным параметрам alpha и lambda.\n",
        "2. Из-за преобладания классов 14 и 15 (дисбаланс классов), то к ним ошибочно модель относит другие метки, что хорошо видно на матрице. Добавление весовых коэффициентов улучшает метрику, но решает проблему дисбаланса классов не полностью.\n",
        "3. Типовые синтетические фичи (умножение, деление, возведение в степень) не улучшали метрику. \n",
        "\n",
        "Для улучшения модели можно попробовать:\n",
        "1. Oversampling вместо весов\n",
        "2. Увеличить max_evals для подбора гиперпараметров.\n",
        "3. Для категориальных признаков использовать label-кодирование, а не one-hot. \n"
      ]
    }
  ]
}